{
 "cells": [
  {
   "cell_type": "code",
   "execution_count": 1,
   "id": "a77a02ad-3099-4545-9b67-960a4e1465d7",
   "metadata": {},
   "outputs": [],
   "source": [
    "#1Guido van Rossum had developed python programming language."
   ]
  },
  {
   "cell_type": "code",
   "execution_count": 2,
   "id": "0e5481b2-10d0-4a05-881a-a2a2ce289f5e",
   "metadata": {},
   "outputs": [],
   "source": [
    "#2.python supports object oriented programming language."
   ]
  },
  {
   "cell_type": "code",
   "execution_count": 3,
   "id": "2c7d40c2-f02a-4284-a128-04f61ebe3fad",
   "metadata": {},
   "outputs": [],
   "source": [
    "#3.yes python is case sensitive.\n"
   ]
  },
  {
   "cell_type": "code",
   "execution_count": null,
   "id": "ce2af57d-3c9f-425c-a4dc-560978644340",
   "metadata": {},
   "outputs": [],
   "source": [
    "#4  .py is the extension for python file."
   ]
  },
  {
   "cell_type": "code",
   "execution_count": 5,
   "id": "1a0d2ba2-04dc-4a79-9f3e-cdda95db997f",
   "metadata": {},
   "outputs": [],
   "source": [
    "#5 python code both compiled and interpreted."
   ]
  },
  {
   "cell_type": "code",
   "execution_count": 6,
   "id": "21103bd8-87a7-452d-b071-04f2547dca37",
   "metadata": {},
   "outputs": [],
   "source": [
    "#6 A block is a piece of python program text that is executed as a unit. the following are blocks: a module, a function body, and a class definition>"
   ]
  },
  {
   "cell_type": "code",
   "execution_count": 7,
   "id": "d7a506cb-5bdd-4d1a-9cd7-56c2f384680d",
   "metadata": {},
   "outputs": [],
   "source": [
    "#7 '#' is used to give single line comments."
   ]
  },
  {
   "cell_type": "code",
   "execution_count": 8,
   "id": "ad5bc6b3-7c31-456c-976b-3d8bf9210796",
   "metadata": {},
   "outputs": [],
   "source": [
    "#8 The function sys.version can help us to find the version of python that we are currently working on."
   ]
  },
  {
   "cell_type": "code",
   "execution_count": 9,
   "id": "d5ae9b60-736e-4732-a857-9d7fdf0f509c",
   "metadata": {},
   "outputs": [],
   "source": [
    "#9 \"lambda\" is used to create anonymous functions at runtime."
   ]
  },
  {
   "cell_type": "code",
   "execution_count": 10,
   "id": "577109c0-c623-4bf3-975c-ee39a15e3282",
   "metadata": {},
   "outputs": [],
   "source": [
    "#10 pip stands for :- preffered installer program"
   ]
  },
  {
   "cell_type": "code",
   "execution_count": 11,
   "id": "cd83016d-d2c1-40f0-a1cc-48ef5d599f90",
   "metadata": {},
   "outputs": [],
   "source": [
    "#11 print(), type(), range(), etc"
   ]
  },
  {
   "cell_type": "code",
   "execution_count": 12,
   "id": "017c4a43-c6d6-4261-8b0f-8dc92bff194c",
   "metadata": {},
   "outputs": [],
   "source": [
    "#12 possible length of an identifier is 79 charecters."
   ]
  },
  {
   "cell_type": "code",
   "execution_count": 13,
   "id": "3a9514de-7af4-43e5-9abf-c8be0c169fea",
   "metadata": {},
   "outputs": [],
   "source": [
    "#13 presence of third party module, high level language, use to read, extensive support libraries, user friendly data structure"
   ]
  },
  {
   "cell_type": "code",
   "execution_count": 14,
   "id": "05a285fe-283a-47d8-ac33-da63df06af4e",
   "metadata": {},
   "outputs": [],
   "source": [
    "#14 Memory management in python involves a private heap containing all python objects and datastructures."
   ]
  },
  {
   "cell_type": "code",
   "execution_count": null,
   "id": "c5766282-2787-4403-b03f-be3610ad7e3f",
   "metadata": {},
   "outputs": [],
   "source": [
    "#16 yes identation is required in python."
   ]
  }
 ],
 "metadata": {
  "kernelspec": {
   "display_name": "Python 3 (ipykernel)",
   "language": "python",
   "name": "python3"
  },
  "language_info": {
   "codemirror_mode": {
    "name": "ipython",
    "version": 3
   },
   "file_extension": ".py",
   "mimetype": "text/x-python",
   "name": "python",
   "nbconvert_exporter": "python",
   "pygments_lexer": "ipython3",
   "version": "3.10.8"
  }
 },
 "nbformat": 4,
 "nbformat_minor": 5
}
